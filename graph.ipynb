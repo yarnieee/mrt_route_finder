{
 "cells": [
  {
   "cell_type": "markdown",
   "id": "188cc50e",
   "metadata": {},
   "source": [
    "TLDR dijkstra's finds the shortest path from a given node to EVERY other node. orr maybe stops at the intended end node ig\n",
    "\n",
    "to init,\n",
    "1. import all the nodes and distances between nodes DONE\n",
    "2. place everything into 1 data structure DONE\n",
    "to start traversing the graph,\n",
    "3. init ?list? with dist. from start node of all nodes. SN-SN is 0, SN-everything else is infinite\n",
    "4. init \"path\" ?hash map? to retrace path.\n",
    "5. create priority queue (min-heap) based on shortest dist. from SN. but how????? using adjacency matrix.\n",
    "- get directly adjacent to start node. check if in 'not added' list, then remove.\n",
    "- get directly adjacent to adjacent. check if in 'not added' list, then remove.\n",
    "- repeat until 'not added' is empty, or \n",
    "repeat:\n",
    "6. pop node NN at top of priority queue.\n",
    "7. for each neighbour of NN, check if path through NN offers a shorter path to neighbour. (a lot of the rewriting will start happening, since literally anything will be shorter than infinity.)\n",
    "until EITHER end node is reached OR all nodes are reached\n",
    "\n",
    "\n",
    "*** should I be using a linked list for this?\n",
    "*** does this mean that dijkstra's algo only checks each node once? Yes.. I think so?"
   ]
  },
  {
   "cell_type": "code",
   "execution_count": 2,
   "id": "90087d5c",
   "metadata": {},
   "outputs": [],
   "source": [
    "import pandas as pd\n",
    "from heapq import heapify, heappop, heappush"
   ]
  },
  {
   "cell_type": "code",
   "execution_count": 3,
   "id": "a8de0ca2",
   "metadata": {},
   "outputs": [],
   "source": [
    "#load data\n",
    "intervals=pd.read_csv('intervals.csv')\n",
    "stn_name=pd.read_csv('station_name.csv')"
   ]
  },
  {
   "cell_type": "code",
   "execution_count": 4,
   "id": "9059e4e8",
   "metadata": {},
   "outputs": [],
   "source": [
    "#preprocess\n",
    "intervals=intervals.map(lambda x: x.strip() if isinstance(x, str) else x)\n",
    "stn_name=stn_name.map(lambda x: x.strip() if isinstance(x, str) else x)"
   ]
  },
  {
   "cell_type": "code",
   "execution_count": 5,
   "id": "0e1f7c9c",
   "metadata": {},
   "outputs": [],
   "source": [
    "#save dataframe as csv\n",
    "intervals.to_csv('intervals.csv', index=False)\n",
    "stn_name.to_csv('station_name.csv', index=False)"
   ]
  },
  {
   "cell_type": "code",
   "execution_count": 6,
   "id": "7ba2cfc8",
   "metadata": {},
   "outputs": [],
   "source": [
    "# intervals.head(10)"
   ]
  },
  {
   "cell_type": "code",
   "execution_count": 7,
   "id": "ec1baefe",
   "metadata": {},
   "outputs": [],
   "source": [
    "# stn_name.head(10)"
   ]
  },
  {
   "cell_type": "code",
   "execution_count": 38,
   "id": "f14fa93c",
   "metadata": {},
   "outputs": [],
   "source": [
    "class Graph:\n",
    "\tdef __init__(self):\n",
    "\t\tself.neighbours_list = {}\n",
    "\t\tself.no_of_nodes = 0\n",
    "\t\tself.vertex_data = {}\n",
    "\n",
    "\t# add rmv NODES/VERTICES\n",
    "\tdef add_vertex_data(self, vertex, data): #for vertex. node.\n",
    "\t\tself.vertex_data[vertex] = data\n",
    "\t\tself.neighbours_list[vertex]={}\n",
    "\t\tself.no_of_nodes+=1\n",
    "\n",
    "\tdef remove_vertex_data(self, vertex):\n",
    "\t\t#call remove edge first, then remove entire vertex from vertex_data and neighbours_list\n",
    "\t\t#count remove 1\n",
    "\t\tpass\n",
    "\n",
    "\t# add rmv CONNECTIONS/EDGES\n",
    "\tdef add_edge(self, start, end, time):\n",
    "\t\tif start in self.vertex_data and end in self.vertex_data:\n",
    "\t\t\tself.neighbours_list[start][end] = time\n",
    "\n",
    "\tdef remove_edge(self, start, end):\n",
    "\t\t#call remove edge for all edges connected to this vertex: first remove on this side, then use the key to remove on the other side\n",
    "\t\tpass\n",
    "\n",
    "\t# getters\n",
    "\tdef get_all_station_code(self, station_name):\n",
    "\t\t#preprocess\n",
    "\t\tstation_name = station_name.lower().strip()\n",
    "\t\tcodes = [k for k, v in self.vertex_data.items() if v.lower() == station_name]\n",
    "\t\treturn codes # CURRENTLY ONLY RETURNS THE FIRST !!!!!!!!\n",
    "\t\n",
    "\tdef get_station_code(self, station_name):\n",
    "\t\treturn self.get_all_station_code(station_name)[0]\n",
    "\t\n",
    "\tdef get_station_name(self, station_code):\n",
    "\t\tname = self.vertex_data[station_code]\n",
    "\t\treturn name\n",
    "\t\n",
    "\t# helper functions for dijkstra\n",
    "\tdef shortest_time(self, source_stn):\n",
    "\t\t# init time list\n",
    "\t\ttime_to={node:float('inf') for node in self.vertex_data.keys()}\n",
    "\t\ttime_to[source_stn] = 0\n",
    "\n",
    "\t\t# init priority queue\n",
    "\t\tpq = [(0,source_stn)] #1. start with start node\n",
    "\t\theapify(pq)\n",
    "\n",
    "\t\t# record visited nodes\n",
    "\t\tvisited = []\n",
    "\t\tpath =[source_stn]\n",
    "\n",
    "\t\t#iterate through list\n",
    "\t\twhile pq: #pq is not empty (aka there's reachable nodes you haven't calculated dist. for yet.)\n",
    "\t\t\tcurr_time, curr_node = heappop(pq)\n",
    "\t\t\tif curr_node in visited: #3. if already visited, remove without doing anything.\n",
    "\t\t\t\tcontinue\n",
    "\t\t\tvisited.append(curr_node)\n",
    "\n",
    "\t\t\tfor neighbour, timedist in self.neighbours_list[curr_node].items(): #2. append all neighbours onto PQ; for subsequent runs, append neighbour's neighbours onto PQ\n",
    "\t\t\t\ttemp = curr_time + timedist\n",
    "\t\t\t\tif temp < time_to[neighbour]:\n",
    "\t\t\t\t\ttime_to[neighbour] = temp #replace\n",
    "\n",
    "\t\t\t\t\theappush(pq, (temp, neighbour))\n",
    "\t\t\n",
    "\t\treturn time_to\n",
    "\t\n",
    "\tdef retrace(self, start, end, time, time_to):\n",
    "\t\treturn self._retrace(start, end, time, time_to)+[end]\n",
    "\t\n",
    "\tdef _retrace(self, start, end, time, time_to):\n",
    "\t\t'''\n",
    "\t\tinit running counter for to_end (confirmed nodes.)\n",
    "\t\tif time_to[neighbour]==timedist: then return [neighbour]\n",
    "\t\tif (time)=dist_from_neighbour_to_curr + time_to[neighbour], then return [neighbour] + [self.retrace(self, neighbour, end, time-timedist, time_to)]\n",
    "\t\t'''\n",
    "\t\t\n",
    "\t\t#how to update time?\n",
    "\t\tneighbour_list=self.neighbours_list[end].items()\n",
    "\n",
    "\t\t#start = TB, end = buona\n",
    "\t\tif (start==end): #start==end==TB\n",
    "\t\t\treturn []\n",
    "\t\telse:\n",
    "\t\t\tfor neighbour, timedist in neighbour_list:\n",
    "\t\t\t\tif time_to[neighbour]+timedist==time_to[end]: # t(LP->BV) + 2 == t(TB->BV)\n",
    "\t\t\t\t\trecursion_list=self._retrace(start, neighbour,time-timedist,time_to)\n",
    "\t\t\t\t\trecursion_list.append(neighbour)\n",
    "\t\t\t\t\treturn recursion_list\n",
    "\n",
    "\t\n",
    "\t# RETURNNNNNN\n",
    "\tdef path(self, start=None, end=None):\n",
    "\t\tif start==None:\n",
    "\t\t\tstart=input(\"Begin from: \")\n",
    "\t\tif end==None:\n",
    "\t\t\tend=input(\"End at: \")\n",
    "\t\t\n",
    "\t\tstart_code=self.get_station_code(start)\n",
    "\t\tend_code=self.get_station_code(end)\n",
    "\n",
    "\t\ttime_to=self.shortest_time(start_code)\n",
    "\t\tresult=time_to[end_code]\n",
    "\t\tpath=self.retrace(start_code, end_code, result, time_to)\n",
    "\n",
    "\t\tprint(f\"Shortest time from {self.get_station_name(start_code)} ({start_code}) to {self.get_station_name(end_code)} ({end_code}) is {result} minutes.\\nPath:\")\n",
    "\t\tself.flatten_path(path)\n",
    "\t\treturn result, path\n",
    "\t\n",
    "\tdef flatten_path(self, path):\n",
    "\t\t'''\n",
    "\t\tcompare curr and next, flatten timings and paths on the same line\n",
    "\t\t#specify interchanges\n",
    "\t\t'''\n",
    "\t\tprev=0\n",
    "\t\ttotal_time=0\n",
    "\t\ttotal_total=0\n",
    "\t\twait=1\n",
    "\t\tfor i in range(len(path)-1):\n",
    "\t\t\tname1=self.get_station_name(path[i])\n",
    "\t\t\tname2=self.get_station_name(path[i+1])\n",
    "\t\t\tif self.same_line(path[i],path[i+1]): # at the end of a line(either interchange or end of list), print the total time for that segment.\n",
    "\t\t\t\tif prev==0:\n",
    "\t\t\t\t\tprint(name1, end=\"\")\n",
    "\t\t\t\t\tprev=1\n",
    "\t\t\t\tprint(f\" -> {name2}\",end=\"\")\n",
    "\t\t\t\ttotal_time+=self.neighbours_list[path[i]][path[i+1]]\n",
    "\t\t\telif name1==name2:\n",
    "\t\t\t\tprint(f' Time: {total_time} min')\n",
    "\t\t\t\ttotal_total+=total_time\n",
    "\t\t\t\ttotal_time=0\n",
    "\t\t\t\ttransfer_time=self.neighbours_list[path[i]][path[i+1]]\n",
    "\t\t\t\tprint(f\"Transfer at {name1} from {path[i]} to {path[i+1]}. Time: {transfer_time} min\") #print transfer time.\n",
    "\t\t\t\tprint(\"Maximum waiting time: 5 min\")\n",
    "\t\t\t\twait+=1\n",
    "\t\t\t\ttotal_total+=transfer_time\n",
    "\t\t\t\tprev=0\n",
    "\t\t#at end of line, check and clear if not empty\n",
    "\t\tprint(f'Time: {total_total} to {total_total+(wait*5)} min')\n",
    "\t\tprint('\\n')\n",
    "\n",
    "\tdef interchange(self,code1, code2): #not rly needed tbh\n",
    "\t\tname=self.get_station_name(code1)\n",
    "\t\tlst=self.get_all_station_code(name)\n",
    "\t\tif code2 in lst:\n",
    "\t\t\treturn True\n",
    "\t\telse:\n",
    "\t\t\treturn False\n",
    "\n",
    "\tdef same_line(self, code1, code2):\n",
    "\t\treturn (code1[0:2]==code2[0:2])\n",
    "\t\t\n",
    "\t\n",
    "\tdef __str__(self):\n",
    "\t\tresult = \"List of nodes:\\n\"\n",
    "\t\tfor key,value in self.vertex_data.items():\n",
    "\t\t\tresult += f\"{key}: {value}\\n\"\n",
    "\t\treturn result"
   ]
  },
  {
   "cell_type": "code",
   "execution_count": 39,
   "id": "d2c1b223",
   "metadata": {},
   "outputs": [
    {
     "name": "stdout",
     "output_type": "stream",
     "text": [
      "[12, 1, 2, 3, 4, 5]\n"
     ]
    }
   ],
   "source": [
    "a=[1,2,3,4,5]\n",
    "a=[12]+a\n",
    "print(a)"
   ]
  },
  {
   "cell_type": "code",
   "execution_count": 40,
   "id": "27203dc0",
   "metadata": {},
   "outputs": [],
   "source": [
    "size=len(stn_name)\n",
    "interval_size=len(intervals)\n",
    "mrt_map=Graph()\n",
    "\n",
    "for i in range(size):\n",
    "    mrt_map.add_vertex_data(stn_name.iloc[i,0],stn_name.iloc[i,1]) #iloc is used to access the data in the dataframe\n",
    "    \n",
    "for i in range(interval_size):\n",
    "    mrt_map.add_edge(intervals.iloc[i,0], intervals.iloc[i,1], int(intervals.iloc[i,2]))"
   ]
  },
  {
   "cell_type": "code",
   "execution_count": 41,
   "id": "33b74109",
   "metadata": {},
   "outputs": [
    {
     "name": "stdout",
     "output_type": "stream",
     "text": [
      "Shortest time from Kent Ridge (CC24) to Bugis (EW12) is 24 minutes.\n",
      "Path:\n",
      "Kent Ridge -> One-North -> Buona Vista -> Holland Village -> Farrer Road -> Botanic Gardens Time: 10 min\n",
      "Transfer at Botanic Gardens from CC19 to DT9. Time: 2 min\n",
      "Maximum waiting time: 5 min\n",
      "Botanic Gardens -> Stevens -> Newton -> Little India -> Rochor -> Bugis Time: 10 min\n",
      "Transfer at Bugis from DT14 to EW12. Time: 2 min\n",
      "Maximum waiting time: 5 min\n",
      "Time: 24 to 39 min\n",
      "\n",
      "\n"
     ]
    },
    {
     "data": {
      "text/plain": [
       "(24,\n",
       " ['CC24',\n",
       "  'CC23',\n",
       "  'CC22',\n",
       "  'CC21',\n",
       "  'CC20',\n",
       "  'CC19',\n",
       "  'DT9',\n",
       "  'DT10',\n",
       "  'DT11',\n",
       "  'DT12',\n",
       "  'DT13',\n",
       "  'DT14',\n",
       "  'EW12'])"
      ]
     },
     "execution_count": 41,
     "metadata": {},
     "output_type": "execute_result"
    }
   ],
   "source": [
    "mrt_map.path('kent ridge','bugis')\n",
    "\n",
    "# Shortest time from Kent Ridge (CC24) to Bugis (EW12) is 24 minutes. ???\n",
    "# Path:\n",
    "# Kent Ridge -> One-North -> Buona Vista -> Holland Village -> Farrer Road -> Botanic Gardens Time: 10 min\n",
    "# Transfer at Botanic Gardens from CC19 to DT9. Time: 7 min\n",
    "# Botanic Gardens -> Stevens -> Newton -> Little India -> Rochor -> Bugis Time: 10 min\n",
    "# Transfer at Bugis from DT14 to EW12. Time: 7 min **?\n"
   ]
  },
  {
   "cell_type": "code",
   "execution_count": 11,
   "id": "8283b000",
   "metadata": {},
   "outputs": [
    {
     "name": "stdout",
     "output_type": "stream",
     "text": [
      "False\n",
      "False\n",
      "False\n"
     ]
    }
   ],
   "source": [
    "lst=[(0,2),(9,8)]\n",
    "print(2 in lst)\n",
    "print(9 in lst)\n",
    "print(4 in lst)"
   ]
  },
  {
   "cell_type": "code",
   "execution_count": 12,
   "id": "c5dbc0df",
   "metadata": {},
   "outputs": [
    {
     "ename": "AttributeError",
     "evalue": "'Graph' object has no attribute 'adj_matrix'",
     "output_type": "error",
     "traceback": [
      "\u001b[31m---------------------------------------------------------------------------\u001b[39m",
      "\u001b[31mAttributeError\u001b[39m                            Traceback (most recent call last)",
      "\u001b[36mCell\u001b[39m\u001b[36m \u001b[39m\u001b[32mIn[12]\u001b[39m\u001b[32m, line 1\u001b[39m\n\u001b[32m----> \u001b[39m\u001b[32m1\u001b[39m \u001b[38;5;28;01mfor\u001b[39;00m key, value \u001b[38;5;129;01min\u001b[39;00m \u001b[43mmrt_map\u001b[49m\u001b[43m.\u001b[49m\u001b[43madj_matrix\u001b[49m.items():\n\u001b[32m      2\u001b[39m \t\u001b[38;5;28mprint\u001b[39m(\u001b[33mf\u001b[39m\u001b[33m\"\u001b[39m\u001b[38;5;132;01m{\u001b[39;00mkey\u001b[38;5;132;01m}\u001b[39;00m\u001b[33m: \u001b[39m\u001b[38;5;132;01m{\u001b[39;00mvalue\u001b[38;5;132;01m}\u001b[39;00m\u001b[33m\"\u001b[39m)\n",
      "\u001b[31mAttributeError\u001b[39m: 'Graph' object has no attribute 'adj_matrix'"
     ]
    }
   ],
   "source": [
    "for key, value in mrt_map.adj_matrix.items():\n",
    "\tprint(f\"{key}: {value}\")"
   ]
  },
  {
   "cell_type": "code",
   "execution_count": null,
   "id": "b36bec9f",
   "metadata": {},
   "outputs": [],
   "source": []
  }
 ],
 "metadata": {
  "kernelspec": {
   "display_name": "ML",
   "language": "python",
   "name": "python3"
  },
  "language_info": {
   "codemirror_mode": {
    "name": "ipython",
    "version": 3
   },
   "file_extension": ".py",
   "mimetype": "text/x-python",
   "name": "python",
   "nbconvert_exporter": "python",
   "pygments_lexer": "ipython3",
   "version": "3.12.0"
  }
 },
 "nbformat": 4,
 "nbformat_minor": 5
}
